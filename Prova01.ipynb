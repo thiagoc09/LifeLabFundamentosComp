{
  "nbformat": 4,
  "nbformat_minor": 0,
  "metadata": {
    "colab": {
      "name": "Untitled13.ipynb",
      "provenance": [],
      "collapsed_sections": [],
      "include_colab_link": true
    },
    "kernelspec": {
      "name": "python3",
      "display_name": "Python 3"
    },
    "language_info": {
      "name": "python"
    }
  },
  "cells": [
    {
      "cell_type": "markdown",
      "metadata": {
        "id": "view-in-github",
        "colab_type": "text"
      },
      "source": [
        "<a href=\"https://colab.research.google.com/github/thiagoc09/LifeLabFundamentosComp/blob/main/Prova01.ipynb\" target=\"_parent\"><img src=\"https://colab.research.google.com/assets/colab-badge.svg\" alt=\"Open In Colab\"/></a>"
      ]
    },
    {
      "cell_type": "code",
      "source": [
        "##EX 1\n",
        "valor1 = int(input(\"Insira o primeiro número: \"))\n",
        "valor2 = int(input(\"Insira o segundo número: \"))\n",
        "print(\"valor1\":\"valor2\":)\n",
        "\n",
        "if valor1 > valor2 and valor2 !=0:\n",
        "  sub = valor1 - valor2\n",
        "  print(\"O resultado da subtraçåo é:\",sub)\n",
        "elif valor2 == 0:\n",
        "  print(\"Operação inválida\")\n",
        "\n",
        "if valor1 < valor2 and valor1 !=0:\n",
        "  sub = valor2 - valor1\n",
        "  print(\"O resultado da subtração é:\",sub)\n",
        "elif valor1 == 0:\n",
        "  print(\"Operação inválida\")"
      ],
      "metadata": {
        "colab": {
          "base_uri": "https://localhost:8080/"
        },
        "id": "PAqX2DPrmU0q",
        "outputId": "b168dc8f-a08a-4d4a-8ac0-f9ee372312b5"
      },
      "execution_count": null,
      "outputs": [
        {
          "output_type": "stream",
          "name": "stdout",
          "text": [
            "Insira o primeiro número: 6\n",
            "Insira o segundo número: 10\n",
            "O resultado da subtração é: 4\n"
          ]
        }
      ]
    },
    {
      "cell_type": "code",
      "execution_count": null,
      "metadata": {
        "colab": {
          "base_uri": "https://localhost:8080/"
        },
        "id": "_VZ6R1j_drzb",
        "outputId": "5f08b365-3d3f-42d3-aec0-0fa160691aca"
      },
      "outputs": [
        {
          "output_type": "stream",
          "name": "stdout",
          "text": [
            "Eu ja rodei em uma ou mais disciplina na ESPM\n",
            "SIM OU NAOSIM\n",
            "Eu ja comi lanche durante as aulas da Espm\n",
            "SIM OU NAO NAO\n",
            "Eu ja fui em uma festa da atletica\n",
            "SIM OU NAO NAO\n",
            "Eu ja protocolei uma ou mais ACOM\n",
            "SIM OU NAO SIM\n",
            "Eu ja cursei mais de 8 semestres na ESPM\n",
            "SIM OU NAO NAO\n",
            "Classificacao: Calouro(a)\n"
          ]
        }
      ],
      "source": [
        "##QUESTAO 6\n",
        "\n",
        "\n",
        "contagem = 0\n",
        "print(\"Eu ja rodei em uma ou mais disciplina na ESPM\")\n",
        "resposta1 = input(\"SIM OU NAO\")\n",
        "if(resposta1 == \"SIM\"):\n",
        "  contagem = contagem + 1\n",
        "print(\"Eu ja comi lanche durante as aulas da Espm\")\n",
        "resposta2 = input(\"SIM OU NAO \")\n",
        "if(resposta2 == \"SIM\"):\n",
        "  contagem = contagem + 1\n",
        "print(\"Eu ja fui em uma festa da atletica\")\n",
        "resposta3 = input(\"SIM OU NAO \")\n",
        "if(resposta3 == \"SIM\"):\n",
        "  contagem = contagem + 1\n",
        "print(\"Eu ja protocolei uma ou mais ACOM\")\n",
        "resposta4 = input(\"SIM OU NAO \")\n",
        "if(resposta4 == \"SIM\"):\n",
        "  contagem = contagem + 1\n",
        "print(\"Eu ja cursei mais de 8 semestres na ESPM\")\n",
        "resposta3 = input(\"SIM OU NAO \")\n",
        "if(resposta3 == \"SIM\"):\n",
        "  contagem = contagem + 1\n",
        "\n",
        "if(contagem == 2):\n",
        "  pessoa = \"Calouro(a)\"\n",
        "elif(contagem > 2 and contagem >=4):\n",
        "  pessoa = \"Veterano(a)\"\n",
        "elif(contagem ==5):\n",
        "  pessoa = \"Patrimonio\"\n",
        "else:\n",
        "  pessoa = \"Iniciante\"\n",
        "\n",
        "\n",
        "print(\"Classificacao: \" + pessoa)      \n",
        "\n",
        "\n",
        "\n",
        "\n"
      ]
    },
    {
      "cell_type": "code",
      "source": [
        "##EXERCICIO 3\n",
        "\n",
        "nota1 = float(input(\"Informe a nota 1: \"))\n",
        "nota2 = float(input(\"Informe a nota 2: \"))\n",
        "nota3 = float(input(\"Informe a nota 3: \"))\n",
        "nota4 = float(input(\"Informe a nota 4: \"))\n",
        "\n",
        "media = (nota1+nota2+nota3+nota4)/4\n",
        "if(media>=9):\n",
        "  conceito = \"CONCEITO A\"\n",
        "elif(media < 9 and media >= 8):\n",
        "  conceito = \"CONCEITO B\"\n",
        "elif(media < 8 and media >=7):\n",
        "  conceito = \"CONCEITO C\"\n",
        "else:\n",
        "  conceito = \"CONCEITO D\"     \n",
        "print(\"\")\n",
        "print(\"Classificacao aluno: \" + conceito)\n",
        "print(\"MEDIA ALUNO:  \" + str(media))  "
      ],
      "metadata": {
        "id": "cwkih0BpjxZR"
      },
      "execution_count": null,
      "outputs": []
    },
    {
      "cell_type": "code",
      "source": [
        "##QUESTAO 5\n",
        " \n",
        "print(\"CODIGO 1 - A VISTA EM DINHEIRO PIX - RECEBE 10% DE DESCONTO\")\n",
        "print(\"CODIGO 2 - A VISTA NO CARTAO DE CREDITO - RECEBE 5% DE DESCONTO\")\n",
        "print(\"CODIGO 3 - EM DUAS VEZES, PRECO NORMAL SEM JUROS\")\n",
        "print(\"CODIGO 4 - EM TRES VEZES, PRECO NORMAL + 10%\")\n",
        " \n",
        "preco = float(input(\"Informe o preco: \"))\n",
        "formaPagamento = input(\"Informe o codigo da forma de pagamento: 1 - 2 - 3 - 4\")\n",
        "if(formaPagamento == \"1\"):\n",
        " preco = preco * 0.90\n",
        " print(\"O Preço conforme o modo de pagamento: \" , preco)\n",
        "elif(formaPagamento == \"2\"):\n",
        " preco = preco * 0.95\n",
        " print(\"O Preço conforme o modo de pagamento: \" , preco)\n",
        "elif(formaPagamento == \"3\"):\n",
        " preco = preco\n",
        " print(\"O Preço conforme o modo de pagamento: \" , preco)\n",
        "elif(formaPagamento == \"4\"):\n",
        " preco = preco * 1.10\n",
        " print(\"O Preço conforme o modo de pagamento: \" , preco)\n"
      ],
      "metadata": {
        "id": "W15MKglDl2bE",
        "colab": {
          "base_uri": "https://localhost:8080/"
        },
        "outputId": "dc9051a8-e603-44f6-bf2a-effa71c90b51"
      },
      "execution_count": null,
      "outputs": [
        {
          "output_type": "stream",
          "name": "stdout",
          "text": [
            "CODIGO 1 - A VISTA EM DINHEIRO PIX - RECEBE 10% DE DESCONTO\n",
            "CODIGO 2 - A VISTA NO CARTAO DE CREDITO - RECEBE 5% DE DESCONTO\n",
            "CODIGO 3 - EM DUAS VEZES, PRECO NORMAL SEM JUROS\n",
            "CODIGO 4 - EM TRES VEZES, PRECO NORMAL + 10%\n",
            "Informe o preco: 100\n",
            "Informe o codigo da forma de pagamento: 1 - 2 - 3 - 41\n",
            "O Preço conforme o modo de pagamento:  90.0\n"
          ]
        }
      ]
    },
    {
      "cell_type": "code",
      "source": [
        "##QUESTAO 6\n",
        "\n",
        "\n",
        "contagem = 0\n",
        "print(\"Eu ja rodei em uma ou mais disciplina na ESPM\")\n",
        "resposta1 = input(\"SIM OU NAO\")\n",
        "if(resposta1 == \"SIM\"):\n",
        "  contagem = contagem + 1\n",
        "print(\"Eu ja comi lanche durante as aulas da Espm\")\n",
        "resposta2 = input(\"SIM OU NAO \")\n",
        "if(resposta2 == \"SIM\"):\n",
        "  contagem = contagem + 1\n",
        "print(\"Eu ja fui em uma festa da atletica\")\n",
        "resposta3 = input(\"SIM OU NAO \")\n",
        "if(resposta3 == \"SIM\"):\n",
        "  contagem = contagem + 1\n",
        "print(\"Eu ja protocolei uma ou mais ACOM\")\n",
        "resposta4 = input(\"SIM OU NAO \")\n",
        "if(resposta4 == \"SIM\"):\n",
        "  contagem = contagem + 1\n",
        "print(\"Eu ja cursei mais de 8 semestres na ESPM\")\n",
        "resposta3 = input(\"SIM OU NAO \")\n",
        "if(resposta3 == \"SIM\"):\n",
        "  contagem = contagem + 1\n",
        "\n",
        "if(contagem == 2):\n",
        "  pessoa = \"Calouro(a)\"\n",
        "elif(contagem > 2 and contagem >=4):\n",
        "  pessoa = \"Veterano(a)\"\n",
        "elif(contagem ==5):\n",
        "  pessoa = \"Patrimonio\"\n",
        "else:\n",
        "  pessoa = \"Iniciante\"\n",
        "\n",
        "\n",
        "print(\"Classificacao: \" + pessoa)      \n",
        "\n"
      ],
      "metadata": {
        "id": "nj2D7ZO8dxQD"
      },
      "execution_count": null,
      "outputs": []
    }
  ]
}