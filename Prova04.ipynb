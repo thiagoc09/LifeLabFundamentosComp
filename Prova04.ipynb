{
  "nbformat": 4,
  "nbformat_minor": 0,
  "metadata": {
    "colab": {
      "name": "Prova04.ipynb",
      "provenance": [],
      "include_colab_link": true
    },
    "kernelspec": {
      "name": "python3",
      "display_name": "Python 3"
    },
    "language_info": {
      "name": "python"
    }
  },
  "cells": [
    {
      "cell_type": "markdown",
      "metadata": {
        "id": "view-in-github",
        "colab_type": "text"
      },
      "source": [
        "<a href=\"https://colab.research.google.com/github/thiagoc09/LifeLabFundamentosComp/blob/main/Prova04.ipynb\" target=\"_parent\"><img src=\"https://colab.research.google.com/assets/colab-badge.svg\" alt=\"Open In Colab\"/></a>"
      ]
    },
    {
      "cell_type": "code",
      "execution_count": null,
      "metadata": {
        "colab": {
          "base_uri": "https://localhost:8080/"
        },
        "id": "utHOr7ZgphYQ",
        "outputId": "86744cca-9e34-4a2a-8473-3188f177b82a"
      },
      "outputs": [
        {
          "output_type": "stream",
          "name": "stdout",
          "text": [
            "ESPM-O INUSITADO EM CONSTANTE MOVIMENTO\n",
            "ESPM-O INUSITADO EM CONSTANTE MOVIMENTO\n",
            "ESPM-O INUSITADO EM CONSTANTE MOVIMENTO\n",
            "ESPM-O INUSITADO EM CONSTANTE MOVIMENTO\n",
            "ESPM-O INUSITADO EM CONSTANTE MOVIMENTO\n",
            "ESPM-O INUSITADO EM CONSTANTE MOVIMENTO\n",
            "ESPM-O INUSITADO EM CONSTANTE MOVIMENTO\n",
            "ESPM-O INUSITADO EM CONSTANTE MOVIMENTO\n",
            "ESPM-O INUSITADO EM CONSTANTE MOVIMENTO\n",
            "Nome:Thiago\n",
            "Thiago\n"
          ]
        }
      ],
      "source": [
        "cnt=0\n",
        "while(cnt<=8):\n",
        "  print(\"ESPM-O INUSITADO EM CONSTANTE MOVIMENTO\")\n",
        "  cnt = cnt +1 \n",
        "\n",
        "nome = input(\"Nome:\")\n",
        "print(nome)\n"
      ]
    },
    {
      "cell_type": "code",
      "source": [
        "imperio = 300000\n",
        "jedi = 20000\n",
        "anos = 0\n",
        "\n",
        "while(jedi<imperio):\n",
        "  anos = anos + 1\n",
        "  imperio = imperio *1.03\n",
        "  jedi = jedi  * 1.075 \n",
        "\n",
        "print(\"O total de anos para alcançar é: \" + str(anos))"
      ],
      "metadata": {
        "colab": {
          "base_uri": "https://localhost:8080/"
        },
        "id": "v8sumLkkqein",
        "outputId": "9bdd1dd8-fbbd-467b-d5bd-ec733d2c6ff6"
      },
      "execution_count": null,
      "outputs": [
        {
          "output_type": "stream",
          "name": "stdout",
          "text": [
            "O total de anos para alcançar é: 64\n"
          ]
        }
      ]
    },
    {
      "cell_type": "code",
      "source": [
        "listaCompras = []\n",
        "listaItens =[]\n",
        "\n",
        "teste = input(\"Deseja iniciar: \")\n",
        "\n",
        "while(teste != 'N'):\n",
        "  valorCompra = int(input(\"Valor da compra\"))\n",
        "  listaCompras.append(valorCompra)\n",
        "  itemCompra = int(input(\"Quantidade itens\"))\n",
        "  listaItens.append(itemCompra)\n",
        "  teste = input(\"Deseja continuar?\")\n",
        "\n",
        "maiorCompra = max(listaCompras)\n",
        "mediaCompra = sum(listaCompras)/len(listaCompras)\n",
        "maiorItem = max(listaItens)\n",
        "mediaItem = sum(listaItens)/len(listaItens)\n",
        "print(\"A media da compra é \")\n",
        "print(mediaCompra)\n",
        "print(\"A média de itens adquiridos é \")\n",
        "print(mediaItem)\n",
        "print(\"O maior valor de compra é \")\n",
        "print(max(listaCompras))\n",
        "print(\"O maior numero de itens é\")\n",
        "print(max(listaItens))"
      ],
      "metadata": {
        "colab": {
          "base_uri": "https://localhost:8080/"
        },
        "id": "DGF8UArZxYAQ",
        "outputId": "38d670a0-74d1-493a-b696-13c38d9d3db7"
      },
      "execution_count": null,
      "outputs": [
        {
          "output_type": "stream",
          "name": "stdout",
          "text": [
            "Deseja iniciar: Sim\n",
            "Valor da compra10\n",
            "Quantidade itens1\n",
            "Deseja continuar?10\n",
            "Valor da compra10\n",
            "Quantidade itens1\n",
            "Deseja continuar?10\n",
            "Valor da compra102\n",
            "Quantidade itens20\n",
            "Deseja continuar?N\n",
            "A media da compra é \n",
            "40.666666666666664\n",
            "A média de itens adquiridos é \n",
            "7.333333333333333\n",
            "O maior valor de compra é \n",
            "102\n",
            "O maior numero de itens é\n",
            "20\n"
          ]
        }
      ]
    },
    {
      "cell_type": "code",
      "source": [
        ""
      ],
      "metadata": {
        "id": "F5Hl1EtQdVCM"
      },
      "execution_count": null,
      "outputs": []
    }
  ]
}